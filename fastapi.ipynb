{
 "cells": [
  {
   "cell_type": "markdown",
   "source": [
    "# python web 框架入门——FASTAPI"
   ],
   "metadata": {
    "collapsed": false
   }
  },
  {
   "cell_type": "markdown",
   "source": [
    "## web框架概览\n",
    "| 特性            | FastAPI               | Flask                 | Django                   |\n",
    "|-----------------|-----------------------|-----------------------|--------------------------|\n",
    "| **发布**        | 2018                  | 2010                  | 2005                     |\n",
    "| **设计理念**    | 高性能API框架         | 小而精的微框架       | 大而全的全包式框架       |\n",
    "| **主要特性**    | 异步支持、自动数据验证、自动生成文档 | 轻量级、扩展性强    | ORM、认证系统、内置管理后台 |\n",
    "| **性能**        | 极高（与Go比肩）      | 中等                  | 中等                     |\n",
    "| **类型提示**    | 原生支持              | 通过扩展支持         | 通过扩展支持             |\n",
    "| **异步编程**    | 原生支持              | 通过扩展部分支持     | Django 3.1+部分支持      |\n",
    "| **自动文档**    | 原生支持              | 通过扩展实现         | 通过扩展实现             |\n",
    "| **适用场景**    | 高性能API、机器学习接口、实时数据处理 | 小到中型项目、微服务 | 大型应用、CMS、电商平台 |\n"
   ],
   "metadata": {
    "collapsed": false
   }
  },
  {
   "cell_type": "markdown",
   "source": [
    "## FastAPI的相关依赖\n",
    "### 依赖1：Python 3.6 + （负责编码开发）\n",
    "\n",
    "FastAPI充分利用了Python 3.6+版本的现代特性，尤其是类型提示功能，从而显著提升了开发效率。\n",
    "\n",
    "这种类型提示不仅使代码更加清晰易读，还有助于静态分析工具准确检测潜在错误，进一步优化整体性能。\n",
    "\n",
    "\n",
    "\n",
    "\n",
    "### 依赖2：Starlette（负责Web部分）\n",
    "\n",
    "FastAPI的卓越性能是建立在Starlette框架的坚实基础之上的。\n",
    "\n",
    "Starlette，作为一个轻量级且专为速度和性能打造的ASGI框架/工具集，为FastAPI提供了强大的异步请求处理能力。\n",
    "\n",
    "FastAPI自设计之初就全面支持异步编程，优化了底层架构和功能实现，使其在处理大量并发请求时具备极高的效率。\n",
    "\n",
    "异步I/O操作避免线程阻塞，智能释放线程处理其他任务，实现服务器资源最大化利用，从而在高并发场景下表现卓越，提升服务器响应速度。\n",
    "\n",
    "这种能力不仅确保了FastAPI在处理请求时的流畅性和高效性，更使得它在众多API框架中脱颖而出，成为了高性能特性的典范。\n",
    "\n",
    "\n",
    "### 依赖3：Pydantic（负责数据验证部分）\n",
    "\n",
    "FastAPI巧妙地整合了Pydantic库，利用其强大的数据验证和管理设置功能。\n",
    "\n",
    "Pydantic基于Python的类型提示，为数据验证提供了快速且可靠的支持。\n",
    "\n",
    "得益于Pydantic的高效数据处理能力，FastAPI能够迅速解析请求并验证数据的准确性，从而在确保性能的同时，极大地提升了开发效率和用户体验。\n",
    "\n",
    "\n",
    "\n",
    "\n",
    "### 依赖4：第三方ORM（数据持久层）模块\n",
    "\n",
    "FastAPI没有内置ORM（对象关系映射）是因为它本身是一个轻量级的框架，专注于提供REST接口的优化和自动生成openapi文档等功能。\n",
    "\n",
    "可以借助SQLAlchemy模块完成ORM（高版本支持异步）\n",
    "\n",
    "\n",
    "\n",
    "可以借助Tortoise-orm模块完成ORM（原生支持异步）\n",
    "\n"
   ],
   "metadata": {
    "collapsed": false
   }
  },
  {
   "cell_type": "markdown",
   "source": [
    "## FastAPI的字段工厂"
   ],
   "metadata": {
    "collapsed": false
   }
  },
  {
   "cell_type": "markdown",
   "source": [
    "### Query\n",
    "Query 是用于定义查询字符串参数的工厂类。它的主要参数有：\n",
    "\n",
    "default: 参数的默认值。如果请求中没有提供该参数，将使用此默认值。\n",
    "\n",
    "description: 参数的描述，通常用于文档和API接口描述。\n",
    "\n",
    "max_length: 参数的最大长度。如果提供的参数超过这个长度，将引发一个验证错误。\n",
    "\n",
    "min_length: 参数的最小长度。如果提供的参数短于这个长度，将引发一个验证错误。\n",
    "\n",
    "regex: 用于验证参数的正则表达式。\n",
    "\n",
    "alias: 参数的别名，允许在请求中使用不同的名称来传递此参数。\n",
    "\n",
    "ge: 大于或等于某个值。\n",
    "\n",
    "gt: 大于某个值。\n",
    "\n",
    "le: 小于或等于某个值。\n",
    "\n",
    "lt: 小于某个值。\n",
    "\n",
    "multiple: 允许参数在查询字符串中出现多次，返回一个列表。\n",
    "\n",
    "dependency: 用于创建更复杂的依赖关系，通常与 Depends 结合使用。"
   ],
   "metadata": {
    "collapsed": false
   }
  },
  {
   "cell_type": "code",
   "execution_count": null,
   "metadata": {
    "collapsed": true
   },
   "outputs": [],
   "source": [
    "from fastapi import FastAPI, Query\n",
    "from typing import List\n",
    "\n",
    "app = FastAPI()\n",
    "\n",
    "# 使用Query工厂类限制查询参数字段\n",
    "@app.get(\"/items/\")\n",
    "async def read_items(\n",
    "        q: str = Query(None, description=\"用于筛选项目的搜索查询\", max_length=50, min_length=3, alias=\"搜索查询\"),\n",
    "        size: int = Query(10, description=\"返回的数据条数\", ge=1, le=100),\n",
    "        skip: int = Query(0, description=\"跳过的数据条数\", ge=0),\n",
    "        multiple_param: List[str] = Query(None, description=\"物品清单\", multiple=True)\n",
    "):\n",
    "    \"\"\"\n",
    "    模拟根据查询参数从数据库中读取项目\n",
    "    \"\"\"\n",
    "    results = {\n",
    "        \"query\": q,\n",
    "        \"size\": size,\n",
    "        \"skip\": skip,\n",
    "        \"multiple_param\": multiple_param\n",
    "    }\n",
    "    return results\n",
    "\n",
    "# 运行FastAPI应用\n",
    "if __name__ == \"__main__\":\n",
    "    import uvicorn\n",
    "    uvicorn.run(app, host=\"127.0.0.1\", port=8080)\n"
   ]
  },
  {
   "cell_type": "markdown",
   "source": [
    "### Field\n",
    "Field 通常用于 Pydantic 模型中定义字段，但在 FastAPI 中也可以用于查询参数。它的参数与 Query类似，但主要用于模型字段的描述和验证。\n",
    "\n",
    "default: 字段的默认值。\n",
    "\n",
    "description: 字段的描述。\n",
    "\n",
    "max_length: 字段的最大长度。\n",
    "\n",
    "min_length: 字段的最小长度。\n",
    "\n",
    "pattern: 用于验证字段的正则表达式。\n",
    "\n",
    "alias: 字段的别名。\n",
    "\n",
    "title: 字段的标题，通常用于文档和模型描述。\n",
    "\n",
    "ge: 大于或等于某个值。\n",
    "\n",
    "gt: 大于某个值。\n",
    "\n",
    "le: 小于或等于某个值。\n",
    "\n",
    "lt: 小于某个值"
   ],
   "metadata": {
    "collapsed": false
   }
  },
  {
   "cell_type": "code",
   "execution_count": null,
   "outputs": [],
   "source": [
    "from fastapi import FastAPI\n",
    "from pydantic import BaseModel, Field\n",
    "\n",
    "app = FastAPI()\n",
    "\n",
    "class Item(BaseModel):\n",
    "    name: str = Field(default=..., title=\"物品名称\", max_length=100, min_length=3, description=\"必须仅包含字母\", pattern=r'^[a-zA-Z]+$')\n",
    "    quantity: int = Field(default=..., ge=0, description=\"物品数量，长度必须为非负数\")\n",
    "    price: float = Field(default=..., gt=0, le=1000, description=\"物品价格，必须大于0且小于等于1000\")\n",
    "    description: str = Field(default=None, max_length=500, min_length=10, description=\"物品的详细描述\")\n",
    "\n",
    "@app.post(\"/items/\")\n",
    "async def create_item(item: Item):\n",
    "    \"\"\"\n",
    "    模拟根据提供的数据创建新物品保存到数据库\n",
    "    \"\"\"\n",
    "    return {\"message\": \"Item created successfully\", \"item\": item.dict()}\n",
    "\n",
    "# 运行FastAPI应用\n",
    "if __name__ == \"__main__\":\n",
    "    import uvicorn\n",
    "    uvicorn.run(app, host=\"127.0.0.1\", port=8080)\n"
   ],
   "metadata": {
    "collapsed": false
   }
  },
  {
   "cell_type": "markdown",
   "source": [
    "### Path\n",
    "Path 用于定义路径参数。它的参数包括：\n",
    "\n",
    "default: 参数的默认值。\n",
    "\n",
    "description: 参数的描述。\n",
    "\n",
    "max_length: 参数的最大长度。\n",
    "\n",
    "min_length: 参数的最小长度。\n",
    "\n",
    "pattern: 用于验证参数的正则表达式。\n",
    "\n",
    "alias: 参数的别名。\n",
    "\n",
    "ge: 大于或等于某个值。\n",
    "\n",
    "gt: 大于某个值。\n",
    "\n",
    "le: 小于或等于某个值。\n",
    "\n",
    "lt: 小于某个值。"
   ],
   "metadata": {
    "collapsed": false
   }
  },
  {
   "cell_type": "code",
   "execution_count": null,
   "outputs": [],
   "source": [
    "from fastapi import FastAPI, Path\n",
    "\n",
    "app = FastAPI()\n",
    "\n",
    "# 使用Path工厂类限制路径参数\n",
    "@app.get(\"/items/{item_id}\")\n",
    "async def read_item(\n",
    "        item_id: int = Path(default=..., description=\"限制路径参数\", max_value=100, min_value=1, ge=1, gt=0, alias=\"item-id\"),\n",
    "):\n",
    "    \"\"\"\n",
    "    模拟根据物品ID读取项目\n",
    "    \"\"\"\n",
    "    results = {\n",
    "        \"item_id\": item_id,\n",
    "    }\n",
    "    return results\n",
    "\n",
    "# 运行FastAPI应用\n",
    "if __name__ == \"__main__\":\n",
    "    import uvicorn\n",
    "    uvicorn.run(app, host=\"127.0.0.1\", port=8080)\n"
   ],
   "metadata": {
    "collapsed": false
   }
  },
  {
   "cell_type": "markdown",
   "source": [
    "### Form\n",
    "Form 是一个工厂类，用于处理表单数据，通常用于处理 POST 请求中的表单数据。\n",
    "\n",
    "default：默认值。如果表单中没有包含该字段，将使用此默认值。\n",
    "\n",
    "description：参数的描述，用于API文档生成。\n",
    "\n",
    "alias：参数的别名。允许你指定一个不同于字段名的名称来接收表单数据。\n",
    "\n",
    "max_length：字符串字段的最大长度。\n",
    "\n",
    "min_length：字符串字段的最小长度。\n",
    "\n",
    "gt：字段值必须大于指定的值。\n",
    "\n",
    "ge：字段值必须大于等于指定的值。\n",
    "\n",
    "lt：字段值必须小于指定的值。\n",
    "\n",
    "le：字段值必须小于等于指定的值。\n",
    "\n",
    "pattrn：字段值必须匹配指定的正则表达式。"
   ],
   "metadata": {
    "collapsed": false
   }
  },
  {
   "cell_type": "code",
   "execution_count": null,
   "outputs": [],
   "source": [
    "from fastapi import FastAPI, Form\n",
    "\n",
    "app = FastAPI()\n",
    "\n",
    "# 使用Form工厂类处理表单数据\n",
    "@app.post(\"/items/\")\n",
    "async def create_item(\n",
    "        username: str = Form(..., description=\"用户名\", max_length=100),\n",
    "        password: str = Form(..., description=\"密码\", min_length=8, alias=\"pwd\"),\n",
    "):\n",
    "    \"\"\"\n",
    "    模拟根据提供的数据创建新用户保存到数据库\n",
    "    \"\"\"\n",
    "    return {\"message\": \"User created successfully\"}\n",
    "\n",
    "# 运行FastAPI应用\n",
    "if __name__ == \"__main__\":\n"
   ],
   "metadata": {
    "collapsed": false
   }
  },
  {
   "cell_type": "markdown",
   "source": [
    "## Fastapi的请求体"
   ],
   "metadata": {
    "collapsed": false
   }
  },
  {
   "cell_type": "markdown",
   "source": [
    "### 嵌套模型\n"
   ],
   "metadata": {
    "collapsed": false
   }
  },
  {
   "cell_type": "code",
   "execution_count": null,
   "outputs": [],
   "source": [
    "from fastapi import APIRouter\n",
    "from pydantic import BaseModel, Field, field_validator\n",
    "from datetime import date\n",
    "from typing import List, Union, Optional\n",
    "\n",
    "app03 = APIRouter()\n",
    "\n",
    "class Addr(BaseModel):\n",
    "    province: str\n",
    "    city: str\n",
    "\n",
    "class User(BaseModel):\n",
    "    name: str\n",
    "    age: int = Field(default=18, ge=18, le=60)\n",
    "    friends: List[int]  # 列表中的元素要求必须全是int类型\n",
    "    birthday: Optional[date] = None\n",
    "    description: Union[str, None] = None\n",
    "    addr: Addr\n",
    "\n",
    "    @field_validator(\"name\")\n",
    "    def name_must_alpha(cls, value):\n",
    "        assert str(value).isalpha(), \"name must be alpha\"\n",
    "        return value\n",
    "\n",
    "class Data(BaseModel):\n",
    "    data: List[User]\n",
    "\n",
    "@app03.post(\"/user\")\n",
    "async def data(user: User):\n",
    "    print(type(user), user)  # <class 'apps.app03.User'> name='string' age=0 birthday=datetime.date(2024, 3, 15) friends=[0]\n",
    "    print(user.name)    # zhangsan\n",
    "    print(user.age)     # 18\n",
    "    print(user.dict())  # {'name': 'zhangsan', 'age': 18, 'birthday': datetime.date(2024, 3, 15), 'friends': [1, 2, 3]}\n",
    "    print(user.json())  # {\"name\":\"zhangsan\",\"age\":18,\"birthday\":\"2024-03-15\",\"friends\":[1, 2, 3]}\n",
    "    return user\n",
    "\n",
    "@app03.post(\"/data\")\n",
    "async def data(data: Data):\n",
    "    return data\n"
   ],
   "metadata": {
    "collapsed": false
   }
  },
  {
   "cell_type": "markdown",
   "source": [
    "这种情况下，FastAPI将期望得到这样的请求体："
   ],
   "metadata": {
    "collapsed": false
   }
  },
  {
   "cell_type": "code",
   "execution_count": null,
   "outputs": [],
   "source": [
    "{\n",
    "  \"name\": \"string\",\n",
    "  \"age\": 18,\n",
    "  \"friends\": [0],\n",
    "  \"birthday\": \"2024-03-17\",\n",
    "  \"description\": \"string\",\n",
    "  \"addr\": {\n",
    "    \"province\": \"string\",\n",
    "    \"city\": \"string\"\n",
    "  }\n",
    "}\n"
   ],
   "metadata": {
    "collapsed": false
   }
  },
  {
   "cell_type": "markdown",
   "source": [],
   "metadata": {
    "collapsed": false
   }
  },
  {
   "cell_type": "markdown",
   "source": [
    "### Form 表单"
   ],
   "metadata": {
    "collapsed": false
   }
  },
  {
   "cell_type": "code",
   "execution_count": null,
   "outputs": [],
   "source": [
    "from fastapi import FastAPI, Form\n",
    "\n",
    "app = FastAPI()\n",
    "\n",
    "@app.post(\"/regin\")\n",
    "async def regin(username: str = Form(...), password: str = Form(...)):\n",
    "    print(f\"username: {username}, password: {password}\")  # username: admin, password: 123123\n",
    "    return {\"username\": username}\n",
    "\n",
    "# 请求信息\n",
    "# curl -X 'POST' \\\n",
    "#   'http://127.0.0.1:8080/regin' \\\n",
    "#   -H 'accept: application/json' \\\n",
    "#   -H 'Content-Type: application/x-www-form-urlencoded' \\\n",
    "#   -d 'username=admin&password=123123'\n"
   ],
   "metadata": {
    "collapsed": false
   }
  },
  {
   "cell_type": "markdown",
   "source": [
    "### 文件上传"
   ],
   "metadata": {
    "collapsed": false
   }
  },
  {
   "cell_type": "code",
   "execution_count": null,
   "outputs": [],
   "source": [
    "from fastapi import FastAPI, File, UploadFile\n",
    "from typing import List\n",
    "\n",
    "app = FastAPI()\n",
    "\n",
    "# 适合小文件上传\n",
    "@app.post(\"/files/\")\n",
    "async def create_file(file: bytes = File()):\n",
    "    print(\"file:\", file)\n",
    "    return {\"file size\": len(file)}\n",
    "\n",
    "@app.post(\"/multiFiles/\")\n",
    "async def create_files(files: List[bytes] = File()):\n",
    "    return {\"file sizes\": [len(file) for file in files]}\n",
    "\n",
    "# 适合大文件上传\n",
    "@app.post(\"/uploadFile/\")\n",
    "async def create_upload_file(file: UploadFile):\n",
    "    with open(f\"{file.filename}\", 'wb') as f:\n",
    "        for chunk in iter(lambda: file.file.read(1024), b''):\n",
    "            f.write(chunk)\n",
    "    return {\"filename\": file.filename}\n",
    "\n",
    "@app.post(\"/multiUploadFiles/\")\n",
    "async def create_upload_files(files: List[UploadFile]):\n",
    "    return {\"filenames\": [file.filename for file in files]}\n"
   ],
   "metadata": {
    "collapsed": false
   }
  },
  {
   "cell_type": "markdown",
   "source": [],
   "metadata": {
    "collapsed": false
   }
  },
  {
   "cell_type": "markdown",
   "source": [
    "### request对象"
   ],
   "metadata": {
    "collapsed": false
   }
  },
  {
   "cell_type": "code",
   "execution_count": null,
   "outputs": [],
   "source": [
    "from fastapi import APIRouter, Request\n",
    "\n",
    "app06 = APIRouter()\n",
    "\n",
    "@app06.get(\"/items\")\n",
    "async def items(request: Request):\n",
    "    return {\n",
    "        \"请求URL\": request.url,\n",
    "        \"请求IP\": request.client.host,\n",
    "        \"请求端口\": request.client.port,\n",
    "        \"请求协议\": request.scope.get(\"type\"),\n",
    "        \"请求方式\": request.method,\n",
    "        \"请求路由\": str(request.scope.get(\"route\")),\n",
    "        \"协议版本\": request.scope.get(\"http_version\"),\n",
    "        \"请求宿主\": request.headers.get(\"user-agent\"),\n",
    "        \"cookies\": request.cookies,\n",
    "        \"json数据\": await request.json()\n",
    "    }\n"
   ],
   "metadata": {
    "collapsed": false
   }
  },
  {
   "cell_type": "markdown",
   "source": [],
   "metadata": {
    "collapsed": false
   }
  },
  {
   "cell_type": "markdown",
   "source": [
    "## Fastapi的响应模型"
   ],
   "metadata": {
    "collapsed": false
   }
  },
  {
   "cell_type": "markdown",
   "source": [
    "### 文件下载响应"
   ],
   "metadata": {
    "collapsed": false
   }
  },
  {
   "cell_type": "code",
   "execution_count": null,
   "outputs": [],
   "source": [
    "from fastapi import FastAPI\n",
    "from fastapi.responses import StreamingResponse\n",
    "\n",
    "app = FastAPI()\n",
    "\n",
    "# 利用StreamingResponse按需发送文件内容\n",
    "def file_chunk_iter(file_path, chunk_size=1024):\n",
    "    with open(file_path, \"rb\") as file:\n",
    "        while True:\n",
    "            chunk = file.read(chunk_size)\n",
    "            if not chunk:\n",
    "                break\n",
    "            yield chunk\n",
    "\n",
    "@app.get(\"/stream-file/\")\n",
    "def stream_file(file_path: str):\n",
    "    return StreamingResponse(file_chunk_iter(file_path), media_type=\"application/octet-stream\")\n",
    "\n",
    "# 运行FastAPI应用\n",
    "if __name__ == \"__main__\":\n",
    "    import uvicorn\n",
    "    uvicorn.run(app, host=\"127.0.0.1\", port=8080)\n"
   ],
   "metadata": {
    "collapsed": false
   }
  },
  {
   "cell_type": "markdown",
   "source": [
    "### 自定义响应模型"
   ],
   "metadata": {
    "collapsed": false
   }
  },
  {
   "cell_type": "code",
   "execution_count": null,
   "outputs": [],
   "source": [
    "from fastapi import APIRouter\n",
    "from pydantic import BaseModel, EmailStr\n",
    "from typing import Union\n",
    "\n",
    "app07 = APIRouter()\n",
    "\n",
    "class UserIn(BaseModel):\n",
    "    username: str\n",
    "    password: str\n",
    "    email: EmailStr\n",
    "    full_name: Union[str, None]\n",
    "\n",
    "class UserOut(BaseModel):\n",
    "    username: str\n",
    "    email: EmailStr\n",
    "\n",
    "@app07.post(\"/createUser1\")\n",
    "async def create_user(user: UserIn):\n",
    "    # 业务逻辑处理...\n",
    "    # 存入数据库...\n",
    "    return user\n",
    "\n",
    "@app07.post(\"/createUser2\", response_model=UserOut)\n",
    "async def create_user_response(user: UserIn):\n",
    "    # 业务逻辑处理...\n",
    "    # 存入数据库...\n",
    "    return user\n"
   ],
   "metadata": {
    "collapsed": false
   }
  },
  {
   "cell_type": "markdown",
   "source": [
    "## 依赖注入depends"
   ],
   "metadata": {
    "collapsed": false
   }
  },
  {
   "cell_type": "markdown",
   "source": [
    "### 概念和作用：\n",
    "\n",
    "Depends 允许你定义一个函数，该函数返回一个值（通常是某个对象或数据），这个值可以在后续的路由操作中被使用。更重要的是，Depends 还允许你指定依赖项是否必须存在，以及如何处理依赖项的解析失败。\n",
    "\n",
    "在 FastAPI 中，你可以使用 Depends 来实现以下功能：\n",
    "\n",
    "### 数据验证和转换：\n",
    "\n",
    "可以定义一个 Depends 函数，用于验证和转换请求中的数据，确保它们符合预期的格式和类型。\n",
    "\n",
    "### 权限和身份验证：\n",
    "\n",
    "可以使用 Depends 来实现权限控制和身份验证逻辑。\n",
    "\n",
    "例如，可以定义一个 Depends 函数来检查用户的身份和权限，如果验证失败，则返回相应的错误响应。\n",
    "\n",
    "### 数据库会话管理：\n",
    "\n",
    "在处理数据库相关的请求时，可能需要确保每个请求都使用相同的数据库会话。\n",
    "\n",
    "通过 Depends，可以定义一个函数来创建和管理数据库会话，并在每个路由操作中注入这个会话。\n",
    "\n",
    "### 请求头、查询参数等的处理：\n",
    "\n",
    "可以使用 Depends 来处理请求头、查询参数等，提取需要的信息并在路由操作中使用。"
   ],
   "metadata": {
    "collapsed": false
   }
  },
  {
   "cell_type": "markdown",
   "source": [],
   "metadata": {
    "collapsed": false
   }
  },
  {
   "cell_type": "code",
   "execution_count": null,
   "outputs": [],
   "source": [
    "from fastapi import FastAPI, Depends, HTTPException, status\n",
    "from pydantic import BaseModel\n",
    "\n",
    "app = FastAPI()\n",
    "\n",
    "# 定义一个 Pydantic 模型用于数据验证\n",
    "class User(BaseModel):\n",
    "    username: str\n",
    "    password: str\n",
    "\n",
    "# 定义依赖函数用于验证用户身份\n",
    "def get_current_user(user: User) -> str:\n",
    "    if user.username != \"admin\" or user.password != \"password\":\n",
    "        raise HTTPException(status_code=401, detail=\"Incorrect username or password\")\n",
    "    return user.username\n",
    "\n",
    "# 定义一个路由操作，使用 Depends 进行依赖注入\n",
    "@app.post(\"/items/\")\n",
    "async def create_item(current_user: str = Depends(get_current_user)):\n",
    "    return {\"user\": current_user}\n",
    "\n",
    "# 运行应用\n",
    "if __name__ == \"__main__\":\n",
    "    import uvicorn\n",
    "    uvicorn.run(app, host=\"127.0.0.1\", port=8000)\n"
   ],
   "metadata": {
    "collapsed": false
   }
  },
  {
   "cell_type": "markdown",
   "source": [
    "### dependence依赖项\n",
    "在 FastAPI 中，直接在视图函数参数中声明依赖项和使用dependencies参数在装饰器中声明依赖项之间有一些区别：\n",
    "\n",
    "视图函数参数中声明依赖项\n",
    "\n",
    "当依赖项可以直接从请求中提取数据（如路径参数、查询参数、请求头等）时，这种方式非常有用。FastAPI 会自动处理这些依赖项，并将解析后的值作为参数传递给视图函数。这种方式简洁明了，适用于那些每个请求都需要执行且没有特殊依赖顺序的依赖项。\n",
    "\n",
    "装饰器中的dependencies参数声明依赖项\n",
    "\n",
    "使用dependencies参数可以让你更灵活地控制依赖项的执行顺序和条件。这对于那些需要根据其他依赖项的结果来决定是否执行某个依赖项，或者需要按照特定顺序执行多个依赖项的场景非常有用。此外，dependencies参数还支持异步依赖项，这是直接在参数中声明依赖项所不支持的。"
   ],
   "metadata": {
    "collapsed": false
   }
  },
  {
   "cell_type": "code",
   "execution_count": null,
   "outputs": [],
   "source": [
    "from fastapi import FastAPI, Header, Depends, HTTPException\n",
    "from pydantic import BaseModel, Field\n",
    "\n",
    "app = FastAPI()\n",
    "\n",
    "def get_current_user_token(token: str = Header(None)):\n",
    "    if token == \"admin\":\n",
    "        return {\"username\": \"admin\", \"password\": \"admin\", \"token\": \"admin\"}\n",
    "    else:\n",
    "        raise HTTPException(status_code=401, detail=\"只准输入admin哦，这是我们的秘密！\")\n",
    "\n",
    "def get_current_user_level(level: str = Header(None)):\n",
    "    if level == \"admin\":\n",
    "        return {\"level\": \"admin\"}\n",
    "    elif level == \"guest\":\n",
    "        return {\"level\": \"guest\"}\n",
    "    else:\n",
    "        raise HTTPException(status_code=401, detail=\"出门在外身份都是自己给的！\")\n",
    "\n",
    "@app.get(\"/users/me1\", dependencies=[Depends(get_current_user_token), Depends(get_current_user_level)])\n",
    "async def read_user_me1():\n",
    "    # dependencies内两个依赖项执行成功后进入视图函数\n",
    "    return {\"message\": \"很好，很高兴见到你！\"}\n",
    "\n",
    "@app.get(\"/users/me2\")\n",
    "async def read_user_me2(\n",
    "    user_info: dict = Depends(get_current_user_token),\n",
    "    user_level: dict = Depends(get_current_user_level)\n",
    "):\n",
    "    return_info = {\"message\": \"很好，很高兴见到你！\"}\n",
    "    return_info.update(user_info)\n",
    "    return_info.update(user_level)\n",
    "    return return_info\n",
    "\n",
    "# 运行FastAPI应用\n",
    "if __name__ == \"__main__\":\n",
    "    import uvicorn\n",
    "    uvicorn.run(app, host=\"127.0.0.1\", port=8080)\n"
   ],
   "metadata": {
    "collapsed": false
   }
  },
  {
   "cell_type": "markdown",
   "source": [
    "## 后台任务\n",
    "FastAPI 的后台任务功能基于 Python 的异步编程模型，巧妙地实现了在处理 HTTP 请求的同时，异步处理那些不需要实时响应但需要在 API 请求完成后执行的任务。\n",
    "\n",
    "这些任务涵盖了广泛的场景，如发送电子邮件、处理图像、执行复杂的数据分析等。\n",
    "\n",
    "即使后台任务需要消耗一定的时间和计算资源，也不会对 API 的实时性能和用户体验产生任何影响。"
   ],
   "metadata": {
    "collapsed": false
   }
  },
  {
   "cell_type": "code",
   "execution_count": null,
   "outputs": [],
   "source": [
    "import time\n",
    "from fastapi import FastAPI, BackgroundTasks, Depends\n",
    "from typing import Optional\n",
    "\n",
    "app = FastAPI()\n",
    "\n",
    "# 创建一个后台任务函数\n",
    "async def bg_task(framework: str):\n",
    "    with open(\"README.md\", mode=\"a\", encoding=\"utf-8\") as f:\n",
    "        for i in range(1, 10):\n",
    "            time.sleep(1)\n",
    "            f.write(f\"### 标题{i}\\n\")\n",
    "            f.write(f\"> 标题{i} 的内容：我是后台任务，{framework}\\n\")\n",
    "\n",
    "# 标准后台任务示例\n",
    "@app.post(\"/background_tasks\")\n",
    "async def run_bg_task(framework: str, background_tasks: BackgroundTasks):\n",
    "    \"\"\"\n",
    "    :param framework: 被调用的后台任务函数的参数\n",
    "    :param background_tasks: FastAPI.BackgroundTasks\n",
    "    :return:\n",
    "    \"\"\"\n",
    "    # 添加到后台任务队列\n",
    "    background_tasks.add_task(bg_task, framework)\n",
    "    return {\"message\": \"任务已在后台执行\"}\n",
    "\n",
    "def continue_write_readme(background_tasks: BackgroundTasks, q: Optional[str] = None):\n",
    "    if q:\n",
    "        background_tasks.add_task(bg_task, f\"\\n> 我是 Depends 依赖函数，我要写入：{q}\")\n",
    "    return q\n",
    "\n",
    "# 依赖后台任务示例\n",
    "@app.post(\"/dependency/background_tasks\")\n",
    "async def dependency_run_bg_task(q: str = Depends(continue_write_readme)):\n",
    "    if q:\n",
    "        return {\"message\": \"README.md更新成功\"}\n",
    "    return {\"message\": \"没有任务\"}\n",
    "\n",
    "# 启动应用程序\n",
    "if __name__ == \"__main__\":\n",
    "    import uvicorn\n",
    "    uvicorn.run(app, host=\"127.0.0.1\", port=8000)\n"
   ],
   "metadata": {
    "collapsed": false
   }
  },
  {
   "cell_type": "markdown",
   "source": [
    "## 异常处理\n",
    "FastAPI 提供了一个方便且灵活的方式来处理异常错误；\n",
    "\n",
    "当路由函数或依赖项抛出异常时，FastAPI 会捕获这些异常，并将其转换为适当的 HTTP 响应；\n",
    "\n",
    "FastAPI 还允许你自定义错误处理，以返回自定义的错误响应；"
   ],
   "metadata": {
    "collapsed": false
   }
  },
  {
   "cell_type": "markdown",
   "source": [
    "### 内置异常处理类\n",
    "HTTPException：基础的 HTTP 异常类，可以用它来抛出自定义的 HTTP 错误。\n",
    "\n",
    "HTTPException：的两个常用属性：\n",
    "\n",
    "status_code：可以设置或读取 HTTP 状态码\n",
    "\n",
    "detail：用于提供关于错误的详细信息\n",
    "\n",
    "### 自定义异常处理\n",
    "可以通过继承HTTPException类创建自定义异常，并在路由或依赖中抛出它们"
   ],
   "metadata": {
    "collapsed": false
   }
  },
  {
   "cell_type": "code",
   "execution_count": null,
   "outputs": [],
   "source": [
    "from fastapi import FastAPI, HTTPException, status\n",
    "from fastapi.responses import JSONResponse\n",
    "\n",
    "app = FastAPI()\n",
    "\n",
    "# 自定义异常类\n",
    "class ItemNotFound(HTTPException):\n",
    "    def __init__(self, item_id: str):\n",
    "        super().__init__(\n",
    "            status_code=status.HTTP_404_NOT_FOUND,\n",
    "            detail=f\"Item {item_id} not found\",\n",
    "        )\n",
    "\n",
    "# 错误处理器\n",
    "@app.exception_handler(ItemNotFound)\n",
    "async def item_not_found_handler(request, exc: ItemNotFound) -> JSONResponse:\n",
    "    return JSONResponse(\n",
    "        status_code=exc.status_code,\n",
    "        content={\"message\": exc.detail}\n",
    "    )\n",
    "\n",
    "# 路由函数使用内置异常\n",
    "@app.get(\"/items/{item_id}\")\n",
    "async def read_item(item_id: int):\n",
    "    items = {1: \"foo\", 2: \"bar\"}\n",
    "    if item_id not in items:\n",
    "        raise HTTPException(status_code=404, detail=\"Item not found\")\n",
    "    return {\"item\": items[item_id]}\n",
    "\n",
    "# 路由函数使用自定义异常\n",
    "@app.get(\"/custom-error/{item_id}\")\n",
    "async def read_custom_error(item_id: int):\n",
    "    if item_id != 1:\n",
    "        raise ItemNotFound(item_id)\n",
    "    return {\"item\": \"custom error item\"}\n",
    "\n",
    "# 启动应用程序\n",
    "if __name__ == \"__main__\":\n",
    "    import uvicorn\n",
    "\n",
    "    uvicorn.run(app, host=\"127.0.0.1\", port=8000)\n"
   ],
   "metadata": {
    "collapsed": false
   }
  },
  {
   "cell_type": "markdown",
   "source": [
    "## 中间件"
   ],
   "metadata": {
    "collapsed": false
   }
  },
  {
   "cell_type": "markdown",
   "source": [
    "“中间件”是一个函数，它在每个请求被特定的路径操作处理之前,以及在每个响应返回之前介入；\n",
    "\n",
    "中间件的作用：中间件可以检查请求的内容，如头部信息、查询参数、路径参数等，并据此执行相应的逻辑。 同样，它也可以在响应被发送回客户端之前修改或增强响应。\n",
    "\n",
    "中间件的流程：中间件首先接收请求，执行一些操作，然后将请求传递给应用程序的其他部分；当应用程序生成响应后，中间件再次介入，可能执行一些额外的操作，然后返回响应。\n",
    "\n",
    "中间件链：在许多Web框架中，中间件可以形成一个链式结构。一个请求会依次经过多个中间件，每个中间件都会按照上述流程处理请求和响应。这允许开发者在应用程序的不同层次上应用不同的逻辑和策略。\n",
    "\n",
    "中间件的应用场景：中间件可以应用于许多场景，如身份验证、日志记录、异常处理、缓存、CORS策略等。通过中间件，开发者可以以一种模块化和可重用的方式实现这些功能，而不需要在每个路由或控制器中重复相同的代码。\n",
    "\n",
    "中间件和路由的关系：在FastAPI或Starlette这样的框架中，中间件和路由是相辅相成的。路由定义了应用程序的端点（即特定的URL路径），而中间件则负责在这些端点之前和之后执行额外的逻辑。这使得开发者可以灵活地组合不同的中间件和路由，以满足复杂的应用程序需求。\n",
    "\n",
    "在视图函数的顶部使用@app.middleware(\"http\")创建中间件\n",
    "中间件参数说明：\n",
    "\n",
    "request：当前HTTP请求对象；\n",
    "\n",
    "call_next：一个可调用的对象，它代表了中间件链中的下一个中间件或最终的路由操作；\n",
    "\n",
    "如果该中间件后面还有中间件，那么call_next就是下一个中间件；\n",
    "如果没有，那么call_next就是对应的视图函数；"
   ],
   "metadata": {
    "collapsed": false
   }
  },
  {
   "cell_type": "code",
   "execution_count": null,
   "outputs": [],
   "source": [
    "import time\n",
    "import uvicorn\n",
    "from fastapi import FastAPI, Request\n",
    "\n",
    "# 主应用路由（FastAPI实例）\n",
    "app = FastAPI()\n",
    "\n",
    "@app.middleware(\"http\")\n",
    "async def m2(request: Request, call_next):\n",
    "    # 请求代码卡\n",
    "    print(\"m2 request\")\n",
    "    response = await call_next(request)\n",
    "    # 响应代码卡\n",
    "    print(\"m2 response\")\n",
    "    return response\n",
    "\n",
    "@app.middleware(\"http\")\n",
    "async def m1(request: Request, call_next):\n",
    "    # 请求代码卡\n",
    "    print(\"m1 request\")\n",
    "\n",
    "    # 限制IP\n",
    "    # if request.client.host in [\"127.0.0.1\", ]:  # 黑名单\n",
    "    #     return Response(content=\"黑名单\")\n",
    "\n",
    "    # 限制路由\n",
    "    # if request.url.path in [\"/user\"]:\n",
    "    #     return Response(content=\"黑名单\")\n",
    "\n",
    "    # 记录请求时间\n",
    "    start_time = time.time()\n",
    "    response = await call_next(request)\n",
    "\n",
    "    # 响应代码块\n",
    "    print(\"m1 response\")\n",
    "    # 记录响应时间\n",
    "    end_time = time.time()\n",
    "    # 计算耗时\n",
    "    take_time = end_time - start_time\n",
    "    response.headers[\"X-start_time\"] = str(start_time)\n",
    "    response.headers[\"X-end_time\"] = str(end_time)\n",
    "    response.headers[\"X-take_time\"] = str(take_time)\n",
    "\n",
    "    return response\n",
    "\n",
    "@app.get(\"/user\")\n",
    "def get_user():\n",
    "    print(\"get_user函数执行了...\")\n",
    "    return {\n",
    "        \"user\": \"current user\"\n",
    "    }\n",
    "\n",
    "@app.get(\"/item/{item_id}\")\n",
    "def get_item(item_id: int):\n",
    "    print(\"get_item函数执行了...\")\n",
    "    return {\n",
    "        \"item\": f\"current item, {item_id}\"\n",
    "    }\n",
    "\n",
    "if __name__ == '__main__':\n",
    "    uvicorn.run(\"main:app\", port=8080, reload=True)\n"
   ],
   "metadata": {
    "collapsed": false
   }
  },
  {
   "cell_type": "markdown",
   "source": [],
   "metadata": {
    "collapsed": false
   }
  },
  {
   "cell_type": "markdown",
   "source": [
    "### 典型的应用场景"
   ],
   "metadata": {
    "collapsed": false
   }
  },
  {
   "cell_type": "code",
   "execution_count": null,
   "outputs": [],
   "source": [
    "import uvicorn\n",
    "from fastapi import FastAPI\n",
    "from fastapi.middleware.cors import CORSMiddleware\n",
    "\n",
    "# 主应用路由（FastAPI实例）\n",
    "app = FastAPI()\n",
    "\n",
    "# 使用FastAPI已经封装完善的跨域解决\n",
    "origins = [\n",
    "    \"http://localhost:63342\"  # 允许的跨域源\n",
    "]\n",
    "\n",
    "app.add_middleware(\n",
    "    CORSMiddleware,\n",
    "    allow_origins=origins,  # 允许跨域的源列表，例如 [\"http://localhost:8080\"]\n",
    "    allow_credentials=True,  # 是否支持 cookies\n",
    "    allow_methods=[\"GET\"],  # 允许的跨域请求 HTTP 方法列表\n",
    "    allow_headers=[\"*\"],  # 允许的跨域请求 HTTP 请求头列表\n",
    ")\n",
    "\n",
    "@app.get(\"/user\")\n",
    "def get_user():\n",
    "    print(\"get_user函数执行了...\")\n",
    "    return {\n",
    "        \"user\": \"current user\"\n",
    "    }\n",
    "\n",
    "if __name__ == '__main__':\n",
    "    uvicorn.run(\"main:app\", port=8080, reload=True)\n"
   ],
   "metadata": {
    "collapsed": false
   }
  },
  {
   "cell_type": "markdown",
   "source": [
    "## Pydantic\n",
    "\n",
    "Pydantic 是一个数据验证和设置管理库，它的核心概念是数据模型（Model）和验证（Validation）；\n",
    "\n",
    "数据模型是通过 Python 类型提示来定义的类，这些类在实例化时会自动使用Python类型注解进行数据验证；确保传入的数据类型符合预期，并且可以自动转换数据类型（比如从字符串到整数）。\n",
    "\n",
    "### 核心功能\n",
    "数据验证：Pydantic 可以确保输入数据符合预定义的模型要求。例如，如果定义了一个模型，其中某个字段是整数类型，并且必须大于零，Pydantic 会在接收到这个字段的数据时进行验证，确保数据满足这些条件。如果数据不满足要求，Pydantic 会引发一个错误。\n",
    "\n",
    "数据转换：Pydantic 可以自动将输入数据转换为模型所需的数据类型。例如，如果模型中的一个字段被定义为整数类型，但用户输入了一个字符串形式的数字，Pydantic 会自动将这个字符串转换为整数。\n",
    "\n",
    "数据序列化：Pydantic 可以将模型实例转换为字典、JSON 或其他格式的数据，这对于 API 开发、数据存储和传输等场景非常有用。\n",
    "\n",
    "依赖注入：Pydantic 支持依赖注入，这意味着你可以在模型定义中指定某些字段的值依赖于其他字段的值。这在处理复杂的数据模型时非常有用。\n",
    "\n",
    "类型提示：由于 Pydantic 基于 Python 的类型提示系统，因此它可以与 Python 的类型检查工具（如 mypy、typing）一起使用，以提高代码的可读性和可维护性。\n",
    "\n",
    "错误处理：提供清晰、结构化的错误消息，帮助开发者快速定位和修复问题；\n",
    "\n",
    "设置管理：从配置文件、环境变量等来源加载和验证设置；"
   ],
   "metadata": {
    "collapsed": false
   }
  },
  {
   "cell_type": "markdown",
   "source": [
    "### BaseModel核心类\n",
    "BaseModel 是 Pydantic 库中的一个核心类，用于定义数据模型。\n",
    "\n",
    "通过继承 BaseModel，可以创建具有数据验证、类型检查、序列化和反序列化等功能的模型。\n",
    "\n",
    "名称\t描述\n",
    "dict()\t返回模型的字典表示\n",
    "json()\t返回模型的JSON字符串表示\n",
    "copy()\t返回模型的浅拷贝\n",
    "parse_obj()\t类方法，用于将已有的字典转换为模型实例\n",
    "parse_raw()\t类方法，用于将JSON或其他格式的字符串转换为模型实例\n",
    "parse_file()\t类方法，用于将JSON或其他格式的文件内容转换为模型实例\n",
    "from_orm()\t类方法，用于从兼容ORM对象创建模型实例。这允许Pydantic模型与ORM模型（如SQLAlchemy）无缝协作，通过将ORM模型实例传递给此方法来创建Pydantic模型实例。\n",
    "schema()\t类方法，返回模型的JSON Schema表示\n",
    "schema_json()\t类方法，返回模型的JSON Schema的JSON字符串表示\n",
    "construct()\t类方法，用于创建模型实例，不执行验证\n",
    "fields\t一个字典，包含模型的所有字段信息。这可以用于反射或程序化地检查模型定义的字段。\n",
    "config\t一个内嵌的类，用于配置模型的行为，如是否允许任意字段、JSON序列化时的行为等。通过在模型定义中创建一个Config子类来自定义这些设置。"
   ],
   "metadata": {
    "collapsed": false
   }
  },
  {
   "cell_type": "code",
   "execution_count": null,
   "outputs": [],
   "source": [
    "from datetime import date\n",
    "from typing import Optional, List\n",
    "from pydantic import BaseModel, Field, ValidationError, validator\n",
    "from enum import Enum\n",
    "import json\n",
    "\n",
    "class Gender(Enum):\n",
    "    MALE = '男'\n",
    "    FEMALE = '女'\n",
    "\n",
    "class StudentModel(BaseModel):\n",
    "    sid: int = Field(..., gt=1000, lt=9999, description=\"学生学号(不可小于1000或大于9999)\")\n",
    "    name: str = Field(..., min_length=2, max_length=10, description=\"学生姓名(字符不可小于2或大于10)\")\n",
    "    age: int = Field(..., gt=0, lt=100, description=\"学生年龄(不可小于0或大于100)\")\n",
    "    gender: Gender = Field(default=Gender.MALE, description=\"学生性别(仅可为男或女)\")\n",
    "    clz: str = \"S95001\"  # 学生所属班级\n",
    "    city: Optional[str]  # 学生所属城市\n",
    "    phone: str = Field(..., min_length=11, max_length=11, description=\"手机号码(字符仅可为11)\")\n",
    "    birthday: date  # 学生生日\n",
    "    hobby: List[str] = Field(default=None, min_items=1, max_items=3,\n",
    "                             description=\"学生爱好（可以为None或不可小于1或大于3个爱好）\")\n",
    "\n",
    "    @validator('clz')\n",
    "    def check_clz_startswith(cls, v):\n",
    "        if not v.startswith(\"S950\"):\n",
    "            raise ValueError('班级编号必须以S950开头')\n",
    "        return v\n",
    "\n",
    "    @validator(\"hobby\")\n",
    "    def check_hobby_items(cls, hobby, values):\n",
    "        if values.get(\"gender\") == Gender.MALE and hobby[0] != \"篮球\":\n",
    "            raise ValueError(\"本班级男同学的第一爱好必须是篮球哦\")\n",
    "        return hobby\n",
    "\n",
    "\n",
    "# 创建一条符合StudentModel模型的学生数据\n",
    "try:\n",
    "    student1 = StudentModel(\n",
    "        sid=1001,\n",
    "        name=\"张三\",\n",
    "        age=18,\n",
    "        city=\"上海\",\n",
    "        phone=\"13500001234\",\n",
    "        birthday=\"1999-11-20\",\n",
    "    )\n",
    "    print(type(student1), student1)\n",
    "except ValidationError as e:\n",
    "    print(\"Validation Error:\", e)\n",
    "\n",
    "# clz字段，不以S950开头\n",
    "try:\n",
    "    student2 = StudentModel(\n",
    "        sid=1001,\n",
    "        name=\"张三\",\n",
    "        age=18,\n",
    "        clz=\"10086\",\n",
    "        city=\"上海\",\n",
    "        phone=\"13500001234\",\n",
    "        birthday=\"1999-11-20\",\n",
    "    )\n",
    "except ValidationError as e:\n",
    "    error_msg = json.loads(e.json())\n",
    "    print(\"发送错误的字段：\", error_msg[0][\"loc\"])  # 发送错误的字段\n",
    "\n",
    "# gender为男的同学，hobby中不传递篮球或篮球不在第一元素\n",
    "try:\n",
    "    student3 = StudentModel(\n",
    "        sid=1001,\n",
    "        name=\"张三\",\n",
    "        age=18,\n",
    "        gender=Gender.MALE,\n",
    "        city=\"上海\",\n",
    "        phone=\"13500001234\",\n",
    "        birthday=\"1999-11-20\",\n",
    "        hobby=[\"电竞\", \"直播\", \"户外\"]\n",
    "    )\n",
    "except ValidationError as e:\n",
    "    error_msg = json.loads(e.json())\n",
    "    print(\"发送错误的字段：\", error_msg[0][\"loc\"])  # 发送错误的字段\n"
   ],
   "metadata": {
    "collapsed": false
   }
  },
  {
   "cell_type": "markdown",
   "source": [],
   "metadata": {
    "collapsed": false
   }
  },
  {
   "cell_type": "markdown",
   "source": [
    "### 模型嵌套"
   ],
   "metadata": {
    "collapsed": false
   }
  },
  {
   "cell_type": "code",
   "execution_count": null,
   "outputs": [],
   "source": [
    "from typing import List\n",
    "from pydantic import BaseModel\n",
    "\n",
    "\n",
    "class Student(BaseModel):\n",
    "    num: str\n",
    "    name: str\n",
    "\n",
    "\n",
    "class Teacher(BaseModel):\n",
    "    num: str\n",
    "    name: str\n",
    "    domain: str\n",
    "\n",
    "\n",
    "class Clazz(BaseModel):\n",
    "    num: str\n",
    "    maximum: int\n",
    "\n",
    "\n",
    "class School(BaseModel):\n",
    "    clazz: List[Clazz]\n",
    "    student: List[Student]\n",
    "    teacher: List[Teacher]\n",
    "\n",
    "\n",
    "# 创建学生实例\n",
    "student1 = Student(num=\"S1001\", name=\"张三\")\n",
    "student2 = Student(num=\"S1002\", name=\"李四\")\n",
    "student3 = Student(num=\"S1003\", name=\"王五\")\n",
    "\n",
    "# 创建老师实例，确保每位老师的编号唯一\n",
    "teacher1 = Teacher(num=\"T1001\", name=\"赵德柱\", domain=\"数学\")\n",
    "teacher2 = Teacher(num=\"T1002\", name=\"王铁锤\", domain=\"语文\")  # 修改编号\n",
    "teacher3 = Teacher(num=\"T1003\", name=\"吴鱼子\", domain=\"英语\")  # 修改编号\n",
    "\n",
    "# 创建班级实例，确保班级编号唯一\n",
    "clazz1 = Clazz(num=\"C1001\", maximum=30)\n",
    "clazz2 = Clazz(num=\"C1002\", maximum=40)  # 修改编号\n",
    "\n",
    "# 创建学校实例\n",
    "school = School(\n",
    "    clazz=[clazz1, clazz2],\n",
    "    student=[student1, student2, student3],\n",
    "    teacher=[teacher1, teacher2, teacher3]\n",
    ")\n",
    "\n",
    "# 输出学校实例的类型和内容\n",
    "print(type(school), school)\n",
    "\n",
    "# 输出学校实例的字典表示\n",
    "print(school.dict())\n",
    "\n",
    "# 输出学校实例的 JSON 表示\n",
    "print(school.json())\n"
   ],
   "metadata": {
    "collapsed": false
   }
  },
  {
   "cell_type": "markdown",
   "source": [
    "### json数据导入\n"
   ],
   "metadata": {
    "collapsed": false
   }
  },
  {
   "cell_type": "code",
   "execution_count": null,
   "outputs": [],
   "source": [
    "from pathlib import Path\n",
    "from datetime import date\n",
    "from typing import Optional, List\n",
    "from pydantic import BaseModel, Field, ValidationError, validator\n",
    "from enum import Enum\n",
    "\n",
    "\n",
    "class Gender(Enum):\n",
    "    MALE = '男'\n",
    "    FEMALE = '女'\n",
    "\n",
    "\n",
    "class StudentModel(BaseModel):\n",
    "    sid: int = Field(..., gt=1000, lt=9999, description=\"学生学号(不可小于1000或大于9999)\")\n",
    "    name: str = Field(..., min_length=2, max_length=10, description=\"学生姓名(字符不可小于2或大于10)\")\n",
    "    age: int = Field(..., gt=0, lt=100, description=\"学生年龄(不可小于0或大于100)\")\n",
    "    gender: Gender = Field(default=\"男\", description=\"学生性别(仅可为男或女)\")\n",
    "    clz: str = \"S95001\"  # 学生所属班级\n",
    "    city: Optional[str]  # 学生所属城市\n",
    "    phone: str = Field(None, min_length=11, max_length=11, description=\"手机号码(字符仅可为11)\")\n",
    "    birthday: date  # 学生生日\n",
    "    hobby: List[str] = Field(default=None, min_items=1, max_items=3,\n",
    "                              description=\"学生爱好（可以为None或不可小于1或大于3个爱好）\")\n",
    "\n",
    "    @validator('clz')\n",
    "    def check_clz_startswith(cls, v):\n",
    "        if not v.startswith(\"S950\"):\n",
    "            raise ValueError('班级编号必须以S950开头')\n",
    "        return v\n",
    "\n",
    "    @validator(\"hobby\")\n",
    "    def check_hobby_items(cls, hobby, values):\n",
    "        if values[\"gender\"] == Gender.MALE and hobby[0] != \"篮球\":\n",
    "            raise ValueError(\"本班级男同学的第一爱好必须是篮球哦\")\n",
    "        return hobby\n",
    "\n",
    "\n",
    "# 创建一条符合StudentModel模型的学生数据\n",
    "student1 = StudentModel(\n",
    "    sid=1001,\n",
    "    name=\"张三\",\n",
    "    age=18,\n",
    "    city=\"上海\",\n",
    "    phone=\"13500001234\",\n",
    "    birthday=\"1999-11-20\",\n",
    ")\n",
    "print(type(student1), student1)\n",
    "\n",
    "# 从指定路径下的json文件中读取内容，通过BaseModel模型的parse_file函数进行解析\n",
    "path = Path(\"./example.json\")\n",
    "# example.json文件数据如下：\n",
    "# {\n",
    "#   \"sid\": 1101,\n",
    "#   \"name\": \"弗兰加圣香克斯\",\n",
    "#   \"age\": 35,\n",
    "#   \"gender\": \"男\",\n",
    "#   \"clz\": \"S95001\",\n",
    "#   \"city\": \"北海\",\n",
    "#   \"phone\": \"13500001234\",\n",
    "#   \"birthday\": \"1985-11-20\",\n",
    "#   \"hobby\": [\n",
    "#     \"篮球\",\n",
    "#     \"美食\",\n",
    "#     \"户外\"\n",
    "#   ]\n",
    "# }\n",
    "\n",
    "file_data = StudentModel.parse_file(path)\n",
    "print(file_data.name)      # 弗兰加圣香克斯\n",
    "print(file_data.dict())    # 输出字典格式的数据\n",
    "print(file_data.json())    # 输出 JSON 格式的数据\n"
   ],
   "metadata": {
    "collapsed": false
   }
  },
  {
   "cell_type": "markdown",
   "source": [
    "### orm数据导入"
   ],
   "metadata": {
    "collapsed": false
   }
  },
  {
   "cell_type": "code",
   "execution_count": null,
   "outputs": [],
   "source": [
    "from typing import List\n",
    "from sqlalchemy import Column, Integer, String\n",
    "from sqlalchemy.dialects.postgresql import ARRAY\n",
    "from sqlalchemy.ext.declarative import declarative_base\n",
    "from pydantic import BaseModel, constr\n",
    "\n",
    "Base = declarative_base()\n",
    "\n",
    "# 创建一张表（ORM模型）\n",
    "class CompanyOrm(Base):\n",
    "    __tablename__ = 'companies'\n",
    "    id = Column(Integer, primary_key=True, nullable=False)\n",
    "    public_key = Column(String(20), index=True, nullable=False, unique=True)\n",
    "    name = Column(String(63), unique=True)\n",
    "    domains = Column(ARRAY(String(255)))\n",
    "\n",
    "# 创建一个pydantic的BaseModel模型\n",
    "class CompanyModel(BaseModel):\n",
    "    id: int\n",
    "    public_key: constr(max_length=20)\n",
    "    name: constr(max_length=63)\n",
    "    domains: List[constr(max_length=255)]\n",
    "\n",
    "    class Config:\n",
    "        orm_mode = True\n",
    "        from_attributes = True\n",
    "\n",
    "# 实例化一个数据库表（ORM模型）对象\n",
    "co_orm = CompanyOrm(\n",
    "    id=123,\n",
    "    public_key='foobar',\n",
    "    name='Testing',\n",
    "    domains=['example.com', 'foobar.com'],\n",
    ")\n",
    "print(type(co_orm), co_orm)\n",
    "\n",
    "# 使用BaseModel类调用from_orm函数，将CompanyOrm模型解析成CompanyModel模型\n",
    "company_orm = CompanyModel.from_orm(co_orm)\n",
    "print(type(company_orm), company_orm)\n",
    "\n",
    "print(company_orm.dict())  # 输出字典格式的数据\n",
    "print(company_orm.json())  # 输出 JSON 格式的数据\n"
   ],
   "metadata": {
    "collapsed": false
   }
  },
  {
   "cell_type": "markdown",
   "source": [
    "## sqlalchemy"
   ],
   "metadata": {
    "collapsed": false
   }
  }
 ],
 "metadata": {
  "kernelspec": {
   "display_name": "Python 3",
   "language": "python",
   "name": "python3"
  },
  "language_info": {
   "codemirror_mode": {
    "name": "ipython",
    "version": 2
   },
   "file_extension": ".py",
   "mimetype": "text/x-python",
   "name": "python",
   "nbconvert_exporter": "python",
   "pygments_lexer": "ipython2",
   "version": "2.7.6"
  }
 },
 "nbformat": 4,
 "nbformat_minor": 0
}
